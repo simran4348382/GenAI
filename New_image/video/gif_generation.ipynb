{
  "nbformat": 4,
  "nbformat_minor": 0,
  "metadata": {
    "colab": {
      "provenance": [],
      "include_colab_link": true
    },
    "kernelspec": {
      "name": "python3",
      "display_name": "Python 3"
    },
    "language_info": {
      "name": "python"
    }
  },
  "cells": [
    {
      "cell_type": "markdown",
      "metadata": {
        "id": "view-in-github",
        "colab_type": "text"
      },
      "source": [
        "<a href=\"https://colab.research.google.com/github/simran4348382/GenAI/blob/main/New_image/video/gif_generation.ipynb\" target=\"_parent\"><img src=\"https://colab.research.google.com/assets/colab-badge.svg\" alt=\"Open In Colab\"/></a>"
      ]
    },
    {
      "cell_type": "markdown",
      "source": [
        "# Title of Project"
      ],
      "metadata": {
        "id": "a8oeaNTHnTAd"
      }
    },
    {
      "cell_type": "markdown",
      "source": [
        "## AI Content Generation using Replicate API"
      ],
      "metadata": {
        "id": "FofUmVOxnYpJ"
      }
    },
    {
      "cell_type": "markdown",
      "source": [
        "### Project Description\n",
        "\n",
        "Using the Replicate API in the Google Colab environment, this integration makes it easy to generate various visual material including photos, videos, and GIFs according to specific textual instructions.\n",
        "\n",
        "\n",
        "```\n",
        "Group Members\n",
        "```\n",
        "* Simran - 4348382\n",
        "* jasdeep kaur - 4358123\n",
        "\n"
      ],
      "metadata": {
        "id": "7fTg6bjlnehw"
      }
    },
    {
      "cell_type": "markdown",
      "source": [
        "### Brief Project Description\n",
        "\n",
        "Using text-based prompts, users may quickly produce a range of visual material, including images, videos, and GIFs, thanks to the Replicate API's inclusion with Google Colab. By using natural language signals, users may direct the API to construct unique visual representations, facilitating the translation of abstract ideas into visually striking products. This integration opens up a world of visual content creation and discovery inside the Google Colab environment. It's a platform that's both user-friendly and adaptable.\n",
        "\n",
        "\n",
        "\n",
        "\n",
        "\n",
        "\n",
        "\n",
        "\n",
        "\n",
        "\n"
      ],
      "metadata": {
        "id": "YriYl2mYogaI"
      }
    },
    {
      "cell_type": "markdown",
      "source": [
        "### Project Objective\n",
        "\n",
        "To extend the platform's capabilities by leveraging the Replicate API within Gen AI, allowing for the replication of complicated data structures, models, and algorithms. The goal is to simplify the process of replicating AI models and data, allowing for seamless knowledge transfer and scalability across several applications.\n"
      ],
      "metadata": {
        "id": "elcPLIXbpqvc"
      }
    },
    {
      "cell_type": "markdown",
      "source": [
        "### Project Outcome"
      ],
      "metadata": {
        "id": "VbFJWVVzqBH4"
      }
    },
    {
      "cell_type": "markdown",
      "source": [
        "Users may use the tools and functionalities of the Replicate API inside the Google Colab platform by inputting the Replicate API key.\n",
        "\n",
        "* In their natural language input, users may specify the kind of content they want to generate. Narrative cues such as \"A teeming cityscape transforming from day to night\" or detailed descriptions like \"A serene landscape with towering mountains and a meandering river\" might be used as prompts.\n",
        "\n",
        "* **Media Creation**: Use these suggestions as a starting point for your own original content creation using the tools provided by the Replicate API. Whether they are static pictures of imagined scenarios or live recordings of events taking place, the API can decipher the spoken cues and generate visual representations that are functionally identical.\n",
        "\n",
        "* **Visual Output**: Photographs that embody the given descriptions, videos that reveal plot points, and animated GIFs that depict certain events are all part of the produced visual assets, which are shown immediately inside the Google Colab interface. Users are able to quickly assess the quality and relevance of the generated material using this depiction.\n",
        "\n",
        "\n"
      ],
      "metadata": {
        "id": "j4zJpzyBqD-p"
      }
    },
    {
      "cell_type": "markdown",
      "source": [
        "### Modification/New Specification\n",
        "\n",
        "The first step is to authenticate with the system using your Replicate API key. To authenticate and use the functionalities of the Replicate API, you will need this key.\n",
        "\n",
        "To begin, make **Input Prompts** that spell out the kind of material you want to produce. For photographs, you may type in \"A tranquil landscape with mountains and a lake.\" For videos, you can input beginning and ending titles like \"A sunrise over a calm ocean\" and \"The sun setting behind a city skyline.\" There are many more examples.\n",
        "\n",
        "* **Media Creation**: You may use the features of the Replicate API to make GIFs, films, and images according to these instructions. In response to these queries, the API either creates content that matches or comprehends the given descriptions.\n",
        "\n",
        "* **Showcase Generated Content**: After they're created, you can see images, videos, and GIFs right in Google Colab using the appropriate display tools. Because of this, the produced content may be seen immediately.\n",
        "\n",
        "* **Editing and Additional Use**: These produced media assets may be altered, used for analysis, or integrated into other projects according to the specific goals and needs.\n",
        "\n"
      ],
      "metadata": {
        "id": "jv5keaSRqgpK"
      }
    },
    {
      "cell_type": "markdown",
      "source": [
        "# Address Specific Criteria :\n",
        "\n",
        "## Algorithmic Advancements\n",
        "* Enhanced Model Training: The Replicate API might incorporate algorithmic advancements that improve the efficiency and speed of training AI models, reducing the time required for model convergence while maintaining or even enhancing model accuracy.\n",
        "\n",
        "* **Optimized Data Replication**: Algorithmic improvements could streamline the process of replicating complex data structures, allowing for faster data transfer and storage, thereby enhancing the scalability of AI applications.\n",
        "\n",
        "## Efficiency Improvements\n",
        "\n",
        "* **Resource Optimization**: The integration might introduce resource-efficient algorithms, allowing users to generate high-quality visual content with reduced computational resources, making it more accessible to a wider user base.\n",
        "\n",
        "* **Faster Content Generation**: Through optimizations in data processing and model inference, the Replicate API could significantly reduce the time taken to generate images, videos, or GIFs based on given prompts.\n",
        "\n",
        "## Innovative Applications\n",
        "\n",
        "* **Creative Content Generation**: Users can leverage the API's capabilities for innovative storytelling, design prototyping, or artistic creation by translating textual prompts into visually compelling content.\n",
        "* **Personalized Media Creation**: Innovative applications could include the creation of personalized visual content for marketing, social media, or educational purposes, tailored to specific textual instructions or user preferences.\n",
        "* **Data Augmentation and Exploration**: The API's capabilities might extend to innovative data augmentation techniques or data exploration methods, allowing users to visualize and understand complex datasets through generated visual representations."
      ],
      "metadata": {
        "id": "xQmoviLbEive"
      }
    },
    {
      "cell_type": "code",
      "execution_count": 1,
      "metadata": {
        "colab": {
          "base_uri": "https://localhost:8080/"
        },
        "id": "sH6k2w4z7-Hw",
        "outputId": "97daea25-c6fe-4a3c-c15e-5504323bb220"
      },
      "outputs": [
        {
          "output_type": "stream",
          "name": "stdout",
          "text": [
            "Collecting replicate\n",
            "  Downloading replicate-0.25.1-py3-none-any.whl (39 kB)\n",
            "Collecting httpx<1,>=0.21.0 (from replicate)\n",
            "  Downloading httpx-0.27.0-py3-none-any.whl (75 kB)\n",
            "\u001b[2K     \u001b[90m━━━━━━━━━━━━━━━━━━━━━━━━━━━━━━━━━━━━━━━━\u001b[0m \u001b[32m75.6/75.6 kB\u001b[0m \u001b[31m4.0 MB/s\u001b[0m eta \u001b[36m0:00:00\u001b[0m\n",
            "\u001b[?25hRequirement already satisfied: packaging in /usr/local/lib/python3.10/dist-packages (from replicate) (24.0)\n",
            "Requirement already satisfied: pydantic>1.10.7 in /usr/local/lib/python3.10/dist-packages (from replicate) (2.6.4)\n",
            "Requirement already satisfied: typing-extensions>=4.5.0 in /usr/local/lib/python3.10/dist-packages (from replicate) (4.10.0)\n",
            "Requirement already satisfied: anyio in /usr/local/lib/python3.10/dist-packages (from httpx<1,>=0.21.0->replicate) (3.7.1)\n",
            "Requirement already satisfied: certifi in /usr/local/lib/python3.10/dist-packages (from httpx<1,>=0.21.0->replicate) (2024.2.2)\n",
            "Collecting httpcore==1.* (from httpx<1,>=0.21.0->replicate)\n",
            "  Downloading httpcore-1.0.5-py3-none-any.whl (77 kB)\n",
            "\u001b[2K     \u001b[90m━━━━━━━━━━━━━━━━━━━━━━━━━━━━━━━━━━━━━━━━\u001b[0m \u001b[32m77.9/77.9 kB\u001b[0m \u001b[31m6.5 MB/s\u001b[0m eta \u001b[36m0:00:00\u001b[0m\n",
            "\u001b[?25hRequirement already satisfied: idna in /usr/local/lib/python3.10/dist-packages (from httpx<1,>=0.21.0->replicate) (3.6)\n",
            "Requirement already satisfied: sniffio in /usr/local/lib/python3.10/dist-packages (from httpx<1,>=0.21.0->replicate) (1.3.1)\n",
            "Collecting h11<0.15,>=0.13 (from httpcore==1.*->httpx<1,>=0.21.0->replicate)\n",
            "  Downloading h11-0.14.0-py3-none-any.whl (58 kB)\n",
            "\u001b[2K     \u001b[90m━━━━━━━━━━━━━━━━━━━━━━━━━━━━━━━━━━━━━━━━\u001b[0m \u001b[32m58.3/58.3 kB\u001b[0m \u001b[31m4.5 MB/s\u001b[0m eta \u001b[36m0:00:00\u001b[0m\n",
            "\u001b[?25hRequirement already satisfied: annotated-types>=0.4.0 in /usr/local/lib/python3.10/dist-packages (from pydantic>1.10.7->replicate) (0.6.0)\n",
            "Requirement already satisfied: pydantic-core==2.16.3 in /usr/local/lib/python3.10/dist-packages (from pydantic>1.10.7->replicate) (2.16.3)\n",
            "Requirement already satisfied: exceptiongroup in /usr/local/lib/python3.10/dist-packages (from anyio->httpx<1,>=0.21.0->replicate) (1.2.0)\n",
            "Installing collected packages: h11, httpcore, httpx, replicate\n",
            "Successfully installed h11-0.14.0 httpcore-1.0.5 httpx-0.27.0 replicate-0.25.1\n"
          ]
        }
      ],
      "source": [
        "# @title Install Replicate\n",
        "!pip install replicate\n"
      ]
    },
    {
      "cell_type": "code",
      "source": [
        "API = \"r8_RsgIDaavjM2vQIB5SI2UmSEz97EYhpw2vbMS5\"\n",
        "import os\n",
        "\n",
        "os.environ[\"REPLICATE_API_TOKEN\"] = API #find it here: https://replicate.com/signin?next=/account/api-tokens"
      ],
      "metadata": {
        "id": "FYCtnQZDlqZZ"
      },
      "execution_count": 2,
      "outputs": []
    },
    {
      "cell_type": "code",
      "source": [
        "# @title Generate Image\n",
        "prompt = \"robotic ant\"\n",
        "import replicate\n",
        "\n",
        "output = replicate.run(\n",
        "  \"stability-ai/stable-diffusion:27b93a2413e7f36cd83da926f3656280b2931564ff050bf9575f1fdf9bcd7478\",\n",
        "  input={\"prompt\":prompt}\n",
        ")\n",
        "\n",
        "output"
      ],
      "metadata": {
        "id": "HoEceNpTlzjE",
        "outputId": "45209e83-0539-424e-d507-06ab068c0ed8",
        "colab": {
          "base_uri": "https://localhost:8080/"
        }
      },
      "execution_count": 3,
      "outputs": [
        {
          "output_type": "execute_result",
          "data": {
            "text/plain": [
              "['https://replicate.delivery/pbxt/TGOFGt7qow44FFkXMbJGpqrKh0EZPfYMZ0BIx2Q1lzGB7ekSA/out-0.png']"
            ]
          },
          "metadata": {},
          "execution_count": 3
        }
      ]
    },
    {
      "cell_type": "code",
      "source": [
        "\n",
        "from IPython.display import Image\n",
        "output_image = output\n",
        "Image(url=output_image[0])"
      ],
      "metadata": {
        "id": "eUZbVWswl7OC",
        "outputId": "7e335319-fcfb-4247-9766-1c84515abd8e",
        "colab": {
          "base_uri": "https://localhost:8080/",
          "height": 533
        }
      },
      "execution_count": 4,
      "outputs": [
        {
          "output_type": "execute_result",
          "data": {
            "text/html": [
              "<img src=\"https://replicate.delivery/pbxt/TGOFGt7qow44FFkXMbJGpqrKh0EZPfYMZ0BIx2Q1lzGB7ekSA/out-0.png\"/>"
            ],
            "text/plain": [
              "<IPython.core.display.Image object>"
            ]
          },
          "metadata": {},
          "execution_count": 4
        }
      ]
    },
    {
      "cell_type": "code",
      "source": [
        "# @title Video/gif/animation/Generation\n",
        "import replicate\n",
        "\n",
        "output = replicate.run(\n",
        "    \"andreasjansson/stable-diffusion-animation:ca1f5e306e5721e19c473e0d094e6603f0456fe759c10715fcd6c1b79242d4a5\",\n",
        "    input={\n",
        "        \"prompt_start\": \"ant start walking\",\n",
        "        \"prompt_end\": \"ant stop walking\",\n",
        "        \"output_format\": \"gif\",\n",
        "        \"gif_ping_pong\": True\n",
        "    }\n",
        ")\n",
        "\n",
        "output\n"
      ],
      "metadata": {
        "id": "6e9xdZavl-h1",
        "outputId": "2f704c3c-0527-4cd8-ae95-96a7451069c9",
        "colab": {
          "base_uri": "https://localhost:8080/"
        }
      },
      "execution_count": 5,
      "outputs": [
        {
          "output_type": "execute_result",
          "data": {
            "text/plain": [
              "<generator object Prediction.output_iterator at 0x7928a1f46420>"
            ]
          },
          "metadata": {},
          "execution_count": 5
        }
      ]
    },
    {
      "cell_type": "code",
      "source": [
        "# @title generate video\n",
        "for item in output:\n",
        "     #https://replicate.com/andreasjansson/stable-diffusion-animation/versions/ca1f5e306e5721e19c473e0d094e6603f0456fe759c10715fcd6c1b79242d4a5/api#output-schema\n",
        "    print(item)"
      ],
      "metadata": {
        "id": "RAGe2-zRmMKP",
        "outputId": "4eee87ca-edec-493b-b069-b8095f566d84",
        "colab": {
          "base_uri": "https://localhost:8080/"
        }
      },
      "execution_count": 6,
      "outputs": [
        {
          "output_type": "stream",
          "name": "stdout",
          "text": [
            "https://replicate.delivery/pbxt/DjO0hAbgfyxpVacy6gjNqQ1JuQ7pfC72I9mn3xlm1LVb49kSA/video.gif\n"
          ]
        }
      ]
    },
    {
      "cell_type": "code",
      "source": [
        "# @title get the video on colab\n",
        "gif_url= item[0:len(item)]"
      ],
      "metadata": {
        "id": "EgeEX5q2mO5c"
      },
      "execution_count": 7,
      "outputs": []
    },
    {
      "cell_type": "code",
      "source": [
        "# @title Show the video\n",
        "import requests\n",
        "from IPython.display import display, Image\n",
        "from PIL import Image as PILImage\n",
        "from io import BytesIO\n",
        "response = requests.get(gif_url)\n",
        "if response.status_code == 200:\n",
        "    # Display the GIF in the notebook\n",
        "    display(Image(url=gif_url))\n",
        "\n",
        "    # Save the GIF in the Colab environment\n",
        "    with open(\"gif_output.gif\", \"wb\") as f:\n",
        "        f.write(response.content)\n",
        "\n",
        "    # Show a saved GIF using PIL\n",
        "    saved_gif = PILImage.open(\"gif_output.gif\")\n",
        "    saved_gif.show()\n",
        "else:\n",
        "    print(\"Failed to fetch GIF\")\n"
      ],
      "metadata": {
        "id": "6DHW7LtFmXzG",
        "outputId": "23de9ff5-cb6e-487e-9be9-67331e75a2c5",
        "colab": {
          "base_uri": "https://localhost:8080/",
          "height": 533
        }
      },
      "execution_count": 8,
      "outputs": [
        {
          "output_type": "display_data",
          "data": {
            "text/html": [
              "<img src=\"https://replicate.delivery/pbxt/DjO0hAbgfyxpVacy6gjNqQ1JuQ7pfC72I9mn3xlm1LVb49kSA/video.gif\"/>"
            ],
            "text/plain": [
              "<IPython.core.display.Image object>"
            ]
          },
          "metadata": {}
        }
      ]
    },
    {
      "cell_type": "markdown",
      "source": [
        "# Reference\n",
        "\n",
        "* Replicate Documentation: (n.d.). Replicate. https://replicate.com/docs/get-started/python\n",
        "\n",
        "\n",
        "* Sign in – Replicate.  https://replicate.com/account/api-tokens"
      ],
      "metadata": {
        "id": "9hx-49sf0ECp"
      }
    },
    {
      "cell_type": "markdown",
      "source": [
        "```\n",
        "Thankyou\n",
        "```\n",
        "---"
      ],
      "metadata": {
        "id": "CJwKjZec0aCp"
      }
    }
  ]
}